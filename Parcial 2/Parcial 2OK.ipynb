{
 "cells": [
  {
   "cell_type": "code",
   "execution_count": 32,
   "id": "1abf9fd2",
   "metadata": {},
   "outputs": [],
   "source": [
    "import numpy as np\n",
    "import scipy as sci\n",
    "import sympy as sy\n",
    "import matplotlib.pyplot as plt\n",
    "from IPython.display import clear_output\n",
    "import time\n",
    "from matplotlib import cm"
   ]
  },
  {
   "cell_type": "code",
   "execution_count": 2,
   "id": "09fc874f",
   "metadata": {},
   "outputs": [],
   "source": [
    "def aproxBilineal(x,y,p):\n",
    "    it=np.array([0,1])\n",
    "    sumatorio=0\n",
    "    coeffs=np.array([[p[0],p[1]],[p[2],p[3]]])\n",
    "    for i in it:\n",
    "        for j in it:\n",
    "            sumatorio+=coeffs[i,j]*x**j*y**i\n",
    "    return sumatorio"
   ]
  },
  {
   "cell_type": "code",
   "execution_count": 3,
   "id": "b71bc5b2",
   "metadata": {},
   "outputs": [],
   "source": [
    "x=sy.Symbol(\"x\",Real=True)\n",
    "y=sy.Symbol(\"y\",Real=True)\n",
    "a00=sy.Symbol(\"a00\",Real=True)\n",
    "a01=sy.Symbol(\"a01\",Real=True)\n",
    "a10=sy.Symbol(\"a10\",Real=True)\n",
    "a11=sy.Symbol(\"a11\",Real=True)"
   ]
  },
  {
   "cell_type": "code",
   "execution_count": 4,
   "id": "8d3159c7",
   "metadata": {},
   "outputs": [
    {
     "data": {
      "text/latex": [
       "$\\displaystyle a_{11}$"
      ],
      "text/plain": [
       "a11"
      ]
     },
     "execution_count": 4,
     "metadata": {},
     "output_type": "execute_result"
    }
   ],
   "source": [
    "b=np.array([a00,a10,a01,a11])\n",
    "b[3]"
   ]
  },
  {
   "cell_type": "code",
   "execution_count": 5,
   "id": "4d7fecdd",
   "metadata": {},
   "outputs": [],
   "source": [
    "eq=aproxBilineal(x,y,b)"
   ]
  },
  {
   "cell_type": "code",
   "execution_count": 7,
   "id": "80ac5bd2",
   "metadata": {},
   "outputs": [
    {
     "data": {
      "text/plain": [
       "array([[ 1.,  1.],\n",
       "       [-1.,  1.],\n",
       "       [-1., -1.],\n",
       "       [ 1., -1.]])"
      ]
     },
     "execution_count": 7,
     "metadata": {},
     "output_type": "execute_result"
    }
   ],
   "source": [
    "position=np.zeros((4,2))\n",
    "p_verx=(1,-1,-1,1)\n",
    "p_very=(1,1,-1,-1)\n",
    "for i in range(len(p_verx)):\n",
    "    position[i,0]=p_verx[i]\n",
    "    position[i,1]=p_very[i]\n",
    "position"
   ]
  },
  {
   "cell_type": "code",
   "execution_count": 8,
   "id": "2ad4d512",
   "metadata": {},
   "outputs": [
    {
     "data": {
      "text/plain": [
       "array([1., 1.])"
      ]
     },
     "execution_count": 8,
     "metadata": {},
     "output_type": "execute_result"
    }
   ],
   "source": [
    "position[0]"
   ]
  },
  {
   "cell_type": "code",
   "execution_count": 9,
   "id": "c251e40f",
   "metadata": {},
   "outputs": [
    {
     "name": "stdout",
     "output_type": "stream",
     "text": [
      "1.0*a00 + 1.0*a01 + 1.0*a10 + 1.0*a11\n",
      "1.0*a00 + 1.0*a01 - 1.0*a10 - 1.0*a11\n",
      "1.0*a00 - 1.0*a01 - 1.0*a10 + 1.0*a11\n",
      "1.0*a00 - 1.0*a01 + 1.0*a10 - 1.0*a11\n"
     ]
    }
   ],
   "source": [
    "for i in position:\n",
    "    print(aproxBilineal(i[0],i[1],b))"
   ]
  },
  {
   "cell_type": "code",
   "execution_count": 10,
   "id": "67c8e3a5",
   "metadata": {},
   "outputs": [],
   "source": [
    "A=np.array([[1,1,1,1],[1,-1,1,-1],[1,-1,-1,1],[1,1,-1,-1]])"
   ]
  },
  {
   "cell_type": "code",
   "execution_count": 11,
   "id": "08bc700c",
   "metadata": {},
   "outputs": [
    {
     "data": {
      "text/plain": [
       "array([[ 1,  1,  1,  1],\n",
       "       [ 1, -1,  1, -1],\n",
       "       [ 1, -1, -1,  1],\n",
       "       [ 1,  1, -1, -1]])"
      ]
     },
     "execution_count": 11,
     "metadata": {},
     "output_type": "execute_result"
    }
   ],
   "source": [
    "A"
   ]
  },
  {
   "cell_type": "code",
   "execution_count": 12,
   "id": "0d2b19b2",
   "metadata": {},
   "outputs": [],
   "source": [
    "B=np.array([1,2,0.5,0.3])"
   ]
  },
  {
   "cell_type": "code",
   "execution_count": 13,
   "id": "b3f74059",
   "metadata": {},
   "outputs": [
    {
     "data": {
      "text/plain": [
       "array([1. , 2. , 0.5, 0.3])"
      ]
     },
     "execution_count": 13,
     "metadata": {},
     "output_type": "execute_result"
    }
   ],
   "source": [
    "B"
   ]
  },
  {
   "cell_type": "code",
   "execution_count": 14,
   "id": "5ffe6bbf",
   "metadata": {},
   "outputs": [],
   "source": [
    "A_inv=np.linalg.inv(A)"
   ]
  },
  {
   "cell_type": "code",
   "execution_count": 15,
   "id": "db5f5234",
   "metadata": {},
   "outputs": [
    {
     "data": {
      "text/plain": [
       "array([[ 0.25,  0.25,  0.25,  0.25],\n",
       "       [ 0.25, -0.25, -0.25,  0.25],\n",
       "       [ 0.25,  0.25, -0.25, -0.25],\n",
       "       [ 0.25, -0.25,  0.25, -0.25]])"
      ]
     },
     "execution_count": 15,
     "metadata": {},
     "output_type": "execute_result"
    }
   ],
   "source": [
    "A_inv"
   ]
  },
  {
   "cell_type": "code",
   "execution_count": 16,
   "id": "95fbd318",
   "metadata": {},
   "outputs": [
    {
     "data": {
      "text/plain": [
       "array([ 0.95, -0.3 ,  0.55, -0.2 ])"
      ]
     },
     "execution_count": 16,
     "metadata": {},
     "output_type": "execute_result"
    }
   ],
   "source": [
    "b=np.linalg.solve(A,B)\n",
    "b"
   ]
  },
  {
   "cell_type": "code",
   "execution_count": 22,
   "id": "e32d311a",
   "metadata": {},
   "outputs": [
    {
     "name": "stdout",
     "output_type": "stream",
     "text": [
      "1.0\n",
      "2.0\n",
      "0.49999999999999994\n",
      "0.2999999999999999\n"
     ]
    }
   ],
   "source": [
    "for i in position:\n",
    "    print(aproxBilineal(i[0],i[1],b))"
   ]
  },
  {
   "cell_type": "code",
   "execution_count": 94,
   "id": "e57e9ccd",
   "metadata": {},
   "outputs": [
    {
     "data": {
      "image/png": "[encoded data removed]",
      "text/plain": [
       "<Figure size 432x288 with 2 Axes>"
      ]
     },
     "metadata": {
      "needs_background": "light"
     },
     "output_type": "display_data"
    }
   ],
   "source": [
    "x=np.linspace(-1,1,1000)\n",
    "y=np.linspace(-1,1,1000)\n",
    "T=aproxBilineal(x,y,b)\n",
    "fig, ax = plt.subplots(subplot_kw={\"projection\": \"3d\"})\n",
    "\n",
    "# Make data.\n",
    "X = np.arange(-1, 1, 1000)\n",
    "Y = np.arange(-1, 1, 1000)\n",
    "X, Y = np.meshgrid(X, Y)\n",
    "Z = aproxBilineal(X,Y,b)\n",
    "\n",
    "# Plot the surface.\n",
    "surf = ax.plot_surface(X, Y, Z, cmap=cm.coolwarm,\n",
    "                       linewidth=0, antialiased=False)\n",
    "\n",
    "# Customize the z axis.\n",
    "ax.set_zlim(-1.01, 1.01)\n",
    "\n",
    "# Add a color bar which maps values to colors.\n",
    "fig.colorbar(surf, shrink=0.5, aspect=5)\n",
    "\n",
    "plt.show()"
   ]
  },
  {
   "cell_type": "code",
   "execution_count": 28,
   "id": "791b8834",
   "metadata": {},
   "outputs": [
    {
     "data": {
      "text/plain": [
       "1.225"
      ]
     },
     "execution_count": 28,
     "metadata": {},
     "output_type": "execute_result"
    }
   ],
   "source": [
    "#Numeral f\n",
    "T_p=aproxBilineal(0,0.5,b)\n",
    "T_p"
   ]
  },
  {
   "cell_type": "code",
   "execution_count": 39,
   "id": "06f2a780",
   "metadata": {},
   "outputs": [
    {
     "data": {
      "text/plain": [
       "array([[0.5       , 0.4997998 , 0.4995996 , ..., 0.3004004 , 0.3002002 ,\n",
       "        0.3       ],\n",
       "       [0.5015015 , 0.5013005 , 0.5010995 , ..., 0.3011027 , 0.3009017 ,\n",
       "        0.3007007 ],\n",
       "       [0.503003  , 0.5028012 , 0.5025994 , ..., 0.30180501, 0.3016032 ,\n",
       "        0.3014014 ],\n",
       "       ...,\n",
       "       [1.996997  , 1.9959976 , 1.9949982 , ..., 1.00059739, 0.999598  ,\n",
       "        0.9985986 ],\n",
       "       [1.9984985 , 1.9974983 , 1.9964981 , ..., 1.0012997 , 1.0002995 ,\n",
       "        0.9992993 ],\n",
       "       [2.        , 1.998999  , 1.997998  , ..., 1.002002  , 1.001001  ,\n",
       "        1.        ]])"
      ]
     },
     "execution_count": 39,
     "metadata": {},
     "output_type": "execute_result"
    }
   ],
   "source": [
    "T_z"
   ]
  },
  {
   "cell_type": "code",
   "execution_count": 63,
   "id": "d0e61425",
   "metadata": {},
   "outputs": [],
   "source": [
    "theta=np.linspace(0,2*np.pi,200)"
   ]
  },
  {
   "cell_type": "code",
   "execution_count": 74,
   "id": "6b3021ed",
   "metadata": {},
   "outputs": [],
   "source": [
    "def rot(theta,p):\n",
    "    rot_m=np.array([[np.cos(theta),-np.sin(theta)],[np.sin(theta),np.cos(theta)]])\n",
    "    p_rots=[]\n",
    "    for i in p:\n",
    "        p_rot=np.dot(rot_m,i)\n",
    "        p_rots.append(p_rot)\n",
    "    p_arr=np.array(p_rots)\n",
    "    return p_arr"
   ]
  },
  {
   "cell_type": "code",
   "execution_count": 75,
   "id": "6f72effb",
   "metadata": {},
   "outputs": [],
   "source": [
    "p_arr=rot(0.25,position)"
   ]
  },
  {
   "cell_type": "code",
   "execution_count": 76,
   "id": "5ec86e83",
   "metadata": {},
   "outputs": [
    {
     "name": "stdout",
     "output_type": "stream",
     "text": [
      "1.0*a00 + 1.21631638096517*a01 + 0.721508462456122*a10 + 0.877582561890373*a11\n",
      "1.0*a00 + 0.721508462456122*a01 - 1.21631638096517*a10 - 0.877582561890373*a11\n",
      "1.0*a00 - 1.21631638096517*a01 - 0.721508462456122*a10 + 0.877582561890373*a11\n",
      "1.0*a00 - 0.721508462456122*a01 + 1.21631638096517*a10 - 0.877582561890373*a11\n"
     ]
    }
   ],
   "source": [
    "b=np.array([a00,a10,a01,a11])\n",
    "for i in p_arr:\n",
    "    print(aproxBilineal(i[0],i[1],b))"
   ]
  },
  {
   "cell_type": "code",
   "execution_count": 77,
   "id": "48510e2a",
   "metadata": {},
   "outputs": [],
   "source": [
    "A_rot=np.array([[1,p_arr[0,1],p_arr[0,0],p_arr[0,0]*p_arr[0,1]],[1,p_arr[1,1],p_arr[1,0],p_arr[1,0]*p_arr[1,1]],[1,p_arr[2,1],p_arr[2,0],p_arr[2,0]*p_arr[2,1]],[1,p_arr[3,1],p_arr[3,0],p_arr[3,0]*p_arr[3,1]]])"
   ]
  },
  {
   "cell_type": "code",
   "execution_count": 78,
   "id": "994f601f",
   "metadata": {},
   "outputs": [
    {
     "data": {
      "text/plain": [
       "array([[ 1.        ,  1.21631638,  0.72150846,  0.87758256],\n",
       "       [ 1.        ,  0.72150846, -1.21631638, -0.87758256],\n",
       "       [ 1.        , -1.21631638, -0.72150846,  0.87758256],\n",
       "       [ 1.        , -0.72150846,  1.21631638, -0.87758256]])"
      ]
     },
     "execution_count": 78,
     "metadata": {},
     "output_type": "execute_result"
    }
   ],
   "source": [
    "A_rot"
   ]
  },
  {
   "cell_type": "code",
   "execution_count": 79,
   "id": "bf91c640",
   "metadata": {},
   "outputs": [
    {
     "data": {
      "text/plain": [
       "array([ 0.95      ,  0.45868064, -0.4267459 , -0.22789879])"
      ]
     },
     "execution_count": 79,
     "metadata": {},
     "output_type": "execute_result"
    }
   ],
   "source": [
    "b=np.linalg.solve(A_rot,B)\n",
    "b"
   ]
  },
  {
   "cell_type": "code",
   "execution_count": 82,
   "id": "bf9b5f89",
   "metadata": {},
   "outputs": [
    {
     "data": {
      "text/plain": [
       "0.7366270479484094"
      ]
     },
     "execution_count": 82,
     "metadata": {},
     "output_type": "execute_result"
    }
   ],
   "source": [
    "T_p=aproxBilineal(0,0.5,b)\n",
    "T_p"
   ]
  },
  {
   "cell_type": "code",
   "execution_count": 90,
   "id": "96a49a2a",
   "metadata": {},
   "outputs": [
    {
     "data": {
      "text/plain": [
       "1.0735090474578188"
      ]
     },
     "execution_count": 90,
     "metadata": {},
     "output_type": "execute_result"
    }
   ],
   "source": [
    "t_list=[]\n",
    "for i in theta:\n",
    "    p_arr=rot(i,position)\n",
    "    b=np.array([a00,a10,a01,a11])\n",
    "    A_rot=np.array([[1,p_arr[0,1],p_arr[0,0],p_arr[0,0]*p_arr[0,1]],[1,p_arr[1,1],p_arr[1,0],p_arr[1,0]*p_arr[1,1]],[1,p_arr[2,1],p_arr[2,0],p_arr[2,0]*p_arr[2,1]],[1,p_arr[3,1],p_arr[3,0],p_arr[3,0]*p_arr[3,1]]])\n",
    "    b=np.linalg.solve(A_rot,B)\n",
    "    T_p=aproxBilineal(0,0.5,b)\n",
    "    t_list.append(T_p)\n",
    "t_arr=np.array(t_list)\n",
    "t_minimo=t_arr.min()\n",
    "for i in range(len(t_arr)):\n",
    "    if(t_arr[i]==t_minimo):\n",
    "        i_minimo=i\n",
    "angulo_minimo=theta[i_minimo]\n",
    "angulo_minimo"
   ]
  },
  {
   "cell_type": "code",
   "execution_count": null,
   "id": "ef2ce001",
   "metadata": {},
   "outputs": [],
   "source": []
  }
 ],
 "metadata": {
  "kernelspec": {
   "display_name": "Python 3 (ipykernel)",
   "language": "python",
   "name": "python3"
  },
  "language_info": {
   "codemirror_mode": {
    "name": "ipython",
    "version": 3
   },
   "file_extension": ".py",
   "mimetype": "text/x-python",
   "name": "python",
   "nbconvert_exporter": "python",
   "pygments_lexer": "ipython3",
   "version": "3.9.7"
  }
 },
 "nbformat": 4,
 "nbformat_minor": 5
}
