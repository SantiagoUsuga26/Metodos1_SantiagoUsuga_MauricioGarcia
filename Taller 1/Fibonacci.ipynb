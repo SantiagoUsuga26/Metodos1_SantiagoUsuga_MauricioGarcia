{
 "cells": [
  {
   "cell_type": "code",
   "execution_count": null,
   "metadata": {},
   "outputs": [],
   "source": [
    "#Fibonacci\n",
    "import numpy as np\n",
    "from matplotlib import pyplot as plt "
   ]
  },
  {
   "cell_type": "code",
   "execution_count": null,
   "metadata": {},
   "outputs": [],
   "source": [
    "#Punto 1\n",
    "#Recibe como input el número de valores de la serie a calcular.\n",
    "def  fibonacci(v_0:int, v_1:int):\n",
    "    valor_0=v_0\n",
    "    valor_1=v_1\n",
    "    valor_nuevo=valor_0+valor_1\n",
    "    return valor_nuevo\n",
    "def arr_fibonacci(n:int):\n",
    "    lista_fibonacci=[]\n",
    "    valor_ant=0\n",
    "    valor_prev=0\n",
    "    for i in range(n):\n",
    "        if(i<=1):\n",
    "            v_n=fibonacci(valor_ant,valor_prev)\n",
    "            lista_fibonacci.append([i,v_n])\n",
    "            valor_prev=1\n",
    "        else:\n",
    "            v_n=fibonacci(valor_ant,valor_prev)\n",
    "            lista_fibonacci.append([i,v_n])\n",
    "            valor_ant=valor_prev\n",
    "            valor_prev=v_n\n",
    "    array_fib=np.array(lista_fibonacci)\n",
    "    return array_fib\n",
    "\n",
    "print(arr_fibonacci(20))"
   ]
  },
  {
   "cell_type": "code",
   "execution_count": null,
   "metadata": {},
   "outputs": [],
   "source": [
    "#Punto 2\n",
    "#Recibe por parámetro el número de pasos dentro de la sucesión de Fibonacci para la gráfica.\n",
    "x=np.array(arr_fibonacci(20)[:,0])\n",
    "y=np.array(arr_fibonacci(20)[:,1])\n",
    "plt.plot(x,y,color=\"black\",label=\"Serie Fibonacci\")\n",
    "plt.legend()"
   ]
  },
  {
   "cell_type": "code",
   "execution_count": null,
   "metadata": {},
   "outputs": [],
   "source": [
    "#Punto 3\n",
    "#Recibe por parámetro el número de pasos dentro de la sucesión de Fibonacci para calcular el número aureo.\n",
    "def numero_aureo(n:int):\n",
    "    valor_ant=0\n",
    "    valor_prev=0\n",
    "    for i in range(n):\n",
    "        if(i<=1):\n",
    "            v_n=fibonacci(valor_ant,valor_prev)\n",
    "            valor_prev=1\n",
    "        else:\n",
    "            v_n=fibonacci(valor_ant,valor_prev)\n",
    "            valor_ant=valor_prev\n",
    "            valor_prev=v_n\n",
    "    aureo=(valor_prev/valor_ant)\n",
    "    return aureo\n",
    "\n",
    "aureo_cte=(1+(5**(1/2)))/2\n",
    "aureo_calc=numero_aureo(1000)\n",
    "\n",
    "print(aureo_calc,aureo_calc-aureo_cte)"
   ]
  },
  {
   "cell_type": "code",
   "execution_count": null,
   "metadata": {},
   "outputs": [],
   "source": []
  }
 ],
 "metadata": {
  "kernelspec": {
   "display_name": "Python 3",
   "language": "python",
   "name": "python3"
  },
  "language_info": {
   "codemirror_mode": {
    "name": "ipython",
    "version": 3
   },
   "file_extension": ".py",
   "mimetype": "text/x-python",
   "name": "python",
   "nbconvert_exporter": "python",
   "pygments_lexer": "ipython3",
   "version": "3.7.6"
  }
 },
 "nbformat": 4,
 "nbformat_minor": 4
}
