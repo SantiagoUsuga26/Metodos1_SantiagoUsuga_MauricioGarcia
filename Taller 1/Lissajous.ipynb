{
 "cells": [
  {
   "cell_type": "code",
   "execution_count": null,
   "metadata": {},
   "outputs": [],
   "source": [
    "import numpy as np\n",
    "from matplotlib import pyplot as plt"
   ]
  },
  {
   "cell_type": "code",
   "execution_count": null,
   "metadata": {},
   "outputs": [],
   "source": [
    "fig = plt.figure(figsize=(5,5))\n",
    "A=1\n",
    "w_x=1.0\n",
    "w_y=1.0\n",
    "nsides=5\n",
    "theta_min=0\n",
    "theta_max=2*np.pi\n",
    "phi=np.array([0,np.pi/4,np.pi/2])\n",
    "thetha=np.linspace(theta_min,theta_max,10000)\n",
    "k=1\n",
    "while(k<=nsides):\n",
    "    j=k\n",
    "    while(j<=(nsides)):\n",
    "        x=A*np.sin(k*w_x*thetha+phi[0])\n",
    "        y=A*np.sin(j*w_y*thetha+phi[0])\n",
    "        ax=fig.add_subplot(nsides,nsides,(k-1)*5+j)\n",
    "        ax.plot(x,y)\n",
    "        ax.axis(\"equal\")\n",
    "        ax.axis(\"off\")\n",
    "        j+=1\n",
    "    k+=1"
   ]
  },
  {
   "cell_type": "code",
   "execution_count": null,
   "metadata": {},
   "outputs": [],
   "source": [
    "plt.figure(figsize=(5,5))\n",
    "k=1\n",
    "while(k<=nsides):\n",
    "    j=k\n",
    "    while(j<=(nsides)):\n",
    "        x=A*np.sin(k*w_x*thetha+phi[0])\n",
    "        y=A*np.sin(j*w_y*thetha+phi[1])\n",
    "        fig = plt.subplot(nsides,nsides,(k-1)*5+j)\n",
    "        fig.plot(x,y)\n",
    "        plt.axis(\"equal\")\n",
    "        plt.axis(\"off\")\n",
    "        j+=1\n",
    "    k+=1"
   ]
  },
  {
   "cell_type": "code",
   "execution_count": null,
   "metadata": {},
   "outputs": [],
   "source": [
    "plt.figure(figsize=(5,5))\n",
    "k=1\n",
    "while(k<=nsides):\n",
    "    j=k\n",
    "    while(j<=(nsides)):\n",
    "        x=A*np.sin(k*w_x*thetha+phi[0])\n",
    "        y=A*np.sin(j*w_y*thetha+phi[2])\n",
    "        fig = plt.subplot(nsides,nsides,(k-1)*5+j)\n",
    "        fig.plot(x,y)\n",
    "        plt.axis(\"equal\")\n",
    "        plt.axis(\"off\")\n",
    "        j+=1\n",
    "    k+=1"
   ]
  },
  {
   "cell_type": "code",
   "execution_count": null,
   "metadata": {},
   "outputs": [],
   "source": []
  }
 ],
 "metadata": {
  "kernelspec": {
   "display_name": "Python 3",
   "language": "python",
   "name": "python3"
  },
  "language_info": {
   "codemirror_mode": {
    "name": "ipython",
    "version": 3
   },
   "file_extension": ".py",
   "mimetype": "text/x-python",
   "name": "python",
   "nbconvert_exporter": "python",
   "pygments_lexer": "ipython3",
   "version": "3.7.6"
  }
 },
 "nbformat": 4,
 "nbformat_minor": 4
}
