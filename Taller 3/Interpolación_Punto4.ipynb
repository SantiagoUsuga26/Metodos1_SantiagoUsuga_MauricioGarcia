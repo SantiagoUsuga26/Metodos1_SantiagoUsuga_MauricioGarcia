{
 "cells": [
  {
   "cell_type": "code",
   "execution_count": 1,
   "metadata": {},
   "outputs": [],
   "source": [
    "import numpy as np\n",
    "import pandas as pd\n",
    "import sympy as sym"
   ]
  },
  {
   "cell_type": "code",
   "execution_count": 2,
   "metadata": {},
   "outputs": [],
   "source": [
    "data = pd.read_csv('./Datos.csv', sep=',')\n",
    "X = np.float64(data['X'])\n",
    "Y = np.float64(data['Y'])\n",
    "x = sym.Symbol('x')"
   ]
  },
  {
   "cell_type": "code",
   "execution_count": 3,
   "metadata": {},
   "outputs": [],
   "source": [
    "def CoefLagrange(x_0,x_i,j):\n",
    "    \n",
    "    coeficiente = 1.0\n",
    "    rango = len(x_i)\n",
    "\n",
    "    for i in range(rango):\n",
    "        if i != j:\n",
    "            coeficiente *= (x_0 - x_i[i])/(x_i[j]-x_i[i])\n",
    "\n",
    "    return coeficiente"
   ]
  },
  {
   "cell_type": "code",
   "execution_count": 4,
   "metadata": {},
   "outputs": [],
   "source": [
    "def PolinomioLagrange(x_0,x_i,y_i):\n",
    "\n",
    "    polinomio = 0.\n",
    "    rango = len(x_i)\n",
    "\n",
    "    for j in range(rango):\n",
    "        polinomio += y_i[j]*CoefLagrange(x_0,x_i,j)\n",
    "\n",
    "    return polinomio"
   ]
  },
  {
   "cell_type": "code",
   "execution_count": 32,
   "metadata": {},
   "outputs": [],
   "source": [
    "funcion = PolinomioLagrange(x,X,Y)\n",
    "\n",
    "f_coeffs = sym.poly(funcion).coeffs()\n",
    "lineal = float(f_coeffs[1])\n",
    "cuadratico = float(f_coeffs[0])\n",
    "\n",
    "angulo = float(sym.atan(lineal))\n",
    "v_0 = sym.sqrt(9.8/(2*np.cos(angulo)**2*-1*cuadratico))\n",
    "\n",
    "angulo = round((180/sym.pi)*angulo)\n",
    "\n",
    "vector_0 =f\"Velocidad Inicial: {v_0} m/s^2\",f\"Ángulo: {angulo}º\""
   ]
  },
  {
   "cell_type": "code",
   "execution_count": 31,
   "metadata": {},
   "outputs": [
    {
     "name": "stdout",
     "output_type": "stream",
     "text": [
      "Vector v_0= v'_0\n",
      "|v_0|=Velocidad Inicial: 10.0000000000000 m/s^2 y dirección(v_0)=Ángulo: 20º\n"
     ]
    }
   ],
   "source": [
    "print(f\"Vector v_0= v'_0\")\n",
    "print(f\"|v_0|={respuesta[0]} y dirección(v_0)={respuesta[1]}\")"
   ]
  },
  {
   "cell_type": "code",
   "execution_count": null,
   "metadata": {},
   "outputs": [],
   "source": []
  }
 ],
 "metadata": {
  "kernelspec": {
   "display_name": "Python 3",
   "language": "python",
   "name": "python3"
  },
  "language_info": {
   "codemirror_mode": {
    "name": "ipython",
    "version": 3
   },
   "file_extension": ".py",
   "mimetype": "text/x-python",
   "name": "python",
   "nbconvert_exporter": "python",
   "pygments_lexer": "ipython3",
   "version": "3.7.6"
  }
 },
 "nbformat": 4,
 "nbformat_minor": 4
}
