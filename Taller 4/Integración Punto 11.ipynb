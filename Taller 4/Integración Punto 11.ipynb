{
 "cells": [
  {
   "cell_type": "code",
   "execution_count": 32,
   "id": "06746178",
   "metadata": {},
   "outputs": [],
   "source": [
    "import numpy as np\n",
    "from tqdm import tqdm"
   ]
  },
  {
   "cell_type": "code",
   "execution_count": 33,
   "id": "52fe9931",
   "metadata": {},
   "outputs": [],
   "source": [
    "def funcion(x):\n",
    "    f_x=np.sqrt(1+np.exp(-x**2))\n",
    "    return f_x"
   ]
  },
  {
   "cell_type": "code",
   "execution_count": 34,
   "id": "52be7e44",
   "metadata": {},
   "outputs": [],
   "source": [
    "def IntegralSimpson3_8(f_x,h):\n",
    "    integral = 0.\n",
    "    integral += f_x[0]+f_x[-1]\n",
    "    len_=len(f_x)-1\n",
    "    rango=range(1,len_)\n",
    "    print(rango)\n",
    "    for i in tqdm(rango):\n",
    "        if i%3!=0:\n",
    "            integral += 3*f_x[i]\n",
    "        else:\n",
    "            integral += 2*f_x[i]\n",
    "    return integral*(3*h/8)"
   ]
  },
  {
   "cell_type": "code",
   "execution_count": 38,
   "id": "d00e6919",
   "metadata": {},
   "outputs": [
    {
     "name": "stdout",
     "output_type": "stream",
     "text": [
      "range(1, 0)\n"
     ]
    },
    {
     "name": "stderr",
     "output_type": "stream",
     "text": [
      "0it [00:00, ?it/s]\n"
     ]
    },
    {
     "name": "stdout",
     "output_type": "stream",
     "text": [
      "nan\n",
      "range(1, 300)\n"
     ]
    },
    {
     "name": "stderr",
     "output_type": "stream",
     "text": [
      "100%|████████████████████████████████████████████████████████████████████████████████████████| 299/299 [00:00<?, ?it/s]\n"
     ]
    },
    {
     "name": "stdout",
     "output_type": "stream",
     "text": [
      "2.6388571169484623\n",
      "range(1, 600)\n"
     ]
    },
    {
     "name": "stderr",
     "output_type": "stream",
     "text": [
      "100%|████████████████████████████████████████████████████████████████████████████████████████| 599/599 [00:00<?, ?it/s]\n"
     ]
    },
    {
     "name": "stdout",
     "output_type": "stream",
     "text": [
      "2.638857116910749\n",
      "range(1, 900)\n"
     ]
    },
    {
     "name": "stderr",
     "output_type": "stream",
     "text": [
      "100%|████████████████████████████████████████████████████████████████████████████| 899/899 [00:00<00:00, 112359.70it/s]"
     ]
    },
    {
     "name": "stdout",
     "output_type": "stream",
     "text": [
      "2.6388571169087305\n"
     ]
    },
    {
     "name": "stderr",
     "output_type": "stream",
     "text": [
      "\n"
     ]
    }
   ],
   "source": [
    "for i in range(1,1001,300):\n",
    "    x, error = np.linspace(-1, 1, i, retstep=True)\n",
    "\n",
    "    f_x = funcion(x)\n",
    "\n",
    "    Int_calculada = IntegralSimpson3_8(f_x, error)\n",
    "    \n",
    "    print(Int_calculada)\n"
   ]
  },
  {
   "cell_type": "code",
   "execution_count": 40,
   "id": "219ea65a",
   "metadata": {},
   "outputs": [
    {
     "name": "stdout",
     "output_type": "stream",
     "text": [
      "range(1, 900)\n"
     ]
    },
    {
     "name": "stderr",
     "output_type": "stream",
     "text": [
      "100%|████████████████████████████████████████████████████████████████████████████████████████| 899/899 [00:00<?, ?it/s]\n"
     ]
    },
    {
     "data": {
      "text/plain": [
       "2.6388571169087305"
      ]
     },
     "execution_count": 40,
     "metadata": {},
     "output_type": "execute_result"
    }
   ],
   "source": [
    "x, error = np.linspace(-1, 1, 901, retstep=True)\n",
    "\n",
    "f_x = funcion(x)\n",
    "\n",
    "Int_calculada = IntegralSimpson3_8(f_x, error)\n",
    "Int_calculada"
   ]
  },
  {
   "cell_type": "code",
   "execution_count": null,
   "id": "31d8d2b5",
   "metadata": {},
   "outputs": [],
   "source": []
  }
 ],
 "metadata": {
  "kernelspec": {
   "display_name": "Python 3 (ipykernel)",
   "language": "python",
   "name": "python3"
  },
  "language_info": {
   "codemirror_mode": {
    "name": "ipython",
    "version": 3
   },
   "file_extension": ".py",
   "mimetype": "text/x-python",
   "name": "python",
   "nbconvert_exporter": "python",
   "pygments_lexer": "ipython3",
   "version": "3.9.7"
  }
 },
 "nbformat": 4,
 "nbformat_minor": 5
}
