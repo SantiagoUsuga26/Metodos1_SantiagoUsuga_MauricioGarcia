{
 "cells": [
  {
   "cell_type": "markdown",
   "id": "8915c57f",
   "metadata": {},
   "source": [
    "12. Evalue:\n",
    "\n",
    "$$\\int_1^2 \\dfrac{1}{x^2}dx$$\n",
    "\n",
    "por medio de la cuadratura de Gauss-Legendre con dos y tres puntos."
   ]
  },
  {
   "cell_type": "code",
   "execution_count": 1,
   "id": "3285d9c8",
   "metadata": {},
   "outputs": [],
   "source": [
    "import numpy as np\n",
    "import sympy as sym"
   ]
  },
  {
   "cell_type": "code",
   "execution_count": 2,
   "id": "20d0c011",
   "metadata": {},
   "outputs": [],
   "source": [
    "def funcion(x):\n",
    "    f_x=1/x**2\n",
    "    return f_x"
   ]
  },
  {
   "cell_type": "code",
   "execution_count": 3,
   "id": "e86e4c97",
   "metadata": {},
   "outputs": [],
   "source": [
    "def PolinomioLegendre(n):\n",
    "    x = sym.Symbol('x', Real=True)\n",
    "    y = sym.Symbol('y', Real=True)\n",
    "    y = (x**2-1)**n\n",
    "    \n",
    "    pol_n = sym.diff(y, x, n)/(2**n*np.math.factorial(n)) \n",
    "\n",
    "    polinomio_func = sym.lambdify([x], pol_n, 'numpy')\n",
    "    return polinomio_func, pol_n"
   ]
  },
  {
   "cell_type": "code",
   "execution_count": 4,
   "id": "fd96c057",
   "metadata": {},
   "outputs": [],
   "source": [
    "x,y=PolinomioLegendre(2)"
   ]
  },
  {
   "cell_type": "code",
   "execution_count": 5,
   "id": "16b3523b",
   "metadata": {},
   "outputs": [
    {
     "data": {
      "text/plain": [
       "(<function _lambdifygenerated(x)>, (3*x**2 - 1)/2)"
      ]
     },
     "execution_count": 5,
     "metadata": {},
     "output_type": "execute_result"
    }
   ],
   "source": [
    "x,y"
   ]
  },
  {
   "cell_type": "code",
   "execution_count": 6,
   "id": "21ef05fe",
   "metadata": {},
   "outputs": [],
   "source": [
    "def NewtonRapson(f, df, xn, itmax=10000, precision = 1e-8):\n",
    "    error = 1\n",
    "    it = 0\n",
    "    while error>precision and it<itmax:\n",
    "        try:\n",
    "            xn1 = xn - f(xn)/df(xn)\n",
    "            error = np.abs(f(xn)/df(xn))\n",
    "        except ZeroDivisionError:\n",
    "            print('División por cero')\n",
    "        xn = xn1\n",
    "        it += 1\n",
    "    if it == itmax:\n",
    "        return False\n",
    "    else:\n",
    "        return xn"
   ]
  },
  {
   "cell_type": "code",
   "execution_count": 7,
   "id": "a953fb9f",
   "metadata": {},
   "outputs": [],
   "source": [
    "def obtenerRaices(n,puntos, decimales=6):\n",
    "    x = sym.Symbol('x', Real=True)\n",
    "    x_prueba = np.linspace(-1, 1,puntos)\n",
    "    raices = np.array([])\n",
    "    polinomio,pol_n = PolinomioLegendre(n)\n",
    "    dpol = sym.diff(pol_n, x, 1)\n",
    "    dpol = sym.lambdify([x], dpol, 'numpy')\n",
    "    for i in x_prueba:\n",
    "        raiz = NewtonRapson(polinomio, dpol, i)\n",
    "        raiz_r = np.round(raiz, decimales)\n",
    "        if raiz_r not in raices:\n",
    "            raices = np.append(raices, raiz_r)\n",
    "    raices.sort()\n",
    "    return raices"
   ]
  },
  {
   "cell_type": "code",
   "execution_count": 8,
   "id": "fd7e8057",
   "metadata": {},
   "outputs": [],
   "source": [
    "def pesosLegendre(raices, dpolinomio):\n",
    "    x = sym.Symbol('x', Real=True)\n",
    "    Pesos = []\n",
    "    dpn = sym.lambdify([x], dpolinomio,'numpy')\n",
    "    for raiz in raices:\n",
    "        peso_raiz=(2/((1-raiz**2)*dpn(raiz)**2))\n",
    "        Pesos.append(peso_raiz)\n",
    "    return Pesos"
   ]
  },
  {
   "cell_type": "code",
   "execution_count": 9,
   "id": "faaea201",
   "metadata": {},
   "outputs": [],
   "source": [
    "x_var = sym.Symbol('x', Real=True)"
   ]
  },
  {
   "cell_type": "code",
   "execution_count": 10,
   "id": "48e9f24a",
   "metadata": {},
   "outputs": [
    {
     "name": "stdout",
     "output_type": "stream",
     "text": [
      "I_2= 0.4970415996577904\n",
      "I_3= 0.4998736894004501\n"
     ]
    }
   ],
   "source": [
    "a=1\n",
    "b=2\n",
    "puntos=int(1e4)\n",
    "for i in [2, 3]:\n",
    "    P_legendre_i = PolinomioLegendre(i)[1]\n",
    "    Der_Legendre = sym.diff(P_legendre_i, x_var, 1)\n",
    "    raices = obtenerRaices(i,puntos)\n",
    "    pesos = pesosLegendre(raices, Der_Legendre)\n",
    "    t = 0.5*((b-a)*raices + a + b)\n",
    "    Integral = 0.5*(b-a)*np.sum(pesos*funcion(t))\n",
    "    print(f\"I_{i}= {Integral}\")"
   ]
  },
  {
   "cell_type": "code",
   "execution_count": null,
   "id": "ee7eb877",
   "metadata": {},
   "outputs": [],
   "source": []
  }
 ],
 "metadata": {
  "kernelspec": {
   "display_name": "Python 3 (ipykernel)",
   "language": "python",
   "name": "python3"
  },
  "language_info": {
   "codemirror_mode": {
    "name": "ipython",
    "version": 3
   },
   "file_extension": ".py",
   "mimetype": "text/x-python",
   "name": "python",
   "nbconvert_exporter": "python",
   "pygments_lexer": "ipython3",
   "version": "3.9.7"
  }
 },
 "nbformat": 4,
 "nbformat_minor": 5
}
