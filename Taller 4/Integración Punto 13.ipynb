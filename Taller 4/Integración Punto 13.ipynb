{
 "cells": [
  {
   "cell_type": "markdown",
   "id": "9dbb2ccd",
   "metadata": {},
   "source": [
    "Escribir el polinomio $p(x) = 3 + 5x + x^2$ en la base de Legendre."
   ]
  },
  {
   "cell_type": "code",
   "execution_count": 1,
   "id": "7d962814",
   "metadata": {},
   "outputs": [],
   "source": [
    "import numpy as np\n",
    "import sympy as sym"
   ]
  },
  {
   "cell_type": "code",
   "execution_count": 2,
   "id": "e4a01b1c",
   "metadata": {},
   "outputs": [],
   "source": [
    "x = sym.Symbol(\"x\", Real=True)\n",
    "y = sym.Symbol(\"y\", Real=True)"
   ]
  },
  {
   "cell_type": "code",
   "execution_count": 3,
   "id": "1ea17de8",
   "metadata": {},
   "outputs": [],
   "source": [
    "def PolinomioLegendre(n):\n",
    "    y = (x**2-1)**n\n",
    "    \n",
    "    pol_n = sym.diff(y, x, n)/(2**n*np.math.factorial(n)) \n",
    "\n",
    "    polinomio_func = sym.lambdify([x], pol_n, \"numpy\")\n",
    "    print(pol_n)\n",
    "    return polinomio_func, pol_n"
   ]
  },
  {
   "cell_type": "code",
   "execution_count": 4,
   "id": "2759e7d7",
   "metadata": {},
   "outputs": [
    {
     "name": "stdout",
     "output_type": "stream",
     "text": [
      "1\n",
      "x\n",
      "(3*x**2 - 1)/2\n"
     ]
    }
   ],
   "source": [
    "for i in range(0,3):\n",
    "    exec(f\"P{i}={PolinomioLegendre(i)[1]}\")"
   ]
  },
  {
   "cell_type": "code",
   "execution_count": 5,
   "id": "36441ad8",
   "metadata": {},
   "outputs": [
    {
     "data": {
      "text/plain": [
       "1"
      ]
     },
     "execution_count": 5,
     "metadata": {},
     "output_type": "execute_result"
    }
   ],
   "source": [
    "P0"
   ]
  },
  {
   "cell_type": "code",
   "execution_count": 6,
   "id": "691251ec",
   "metadata": {},
   "outputs": [
    {
     "data": {
      "text/latex": [
       "$\\displaystyle x$"
      ],
      "text/plain": [
       "x"
      ]
     },
     "execution_count": 6,
     "metadata": {},
     "output_type": "execute_result"
    }
   ],
   "source": [
    "P1"
   ]
  },
  {
   "cell_type": "code",
   "execution_count": 7,
   "id": "3ff60fac",
   "metadata": {},
   "outputs": [
    {
     "data": {
      "text/latex": [
       "$\\displaystyle \\frac{3 x^{2}}{2} - \\frac{1}{2}$"
      ],
      "text/plain": [
       "3*x**2/2 - 1/2"
      ]
     },
     "execution_count": 7,
     "metadata": {},
     "output_type": "execute_result"
    }
   ],
   "source": [
    "P2"
   ]
  },
  {
   "cell_type": "markdown",
   "id": "cbee47e2",
   "metadata": {},
   "source": [
    "Por lo que tenemos:\n",
    "$$\\mathcal{p}_0(x)=1$$\n",
    "$$\\mathcal{p}_1(x)=x$$\n",
    "$$\\mathcal{p}_2(x)=\\dfrac{1}{2}(3x^2-1)$$"
   ]
  },
  {
   "cell_type": "markdown",
   "id": "bd725572",
   "metadata": {},
   "source": [
    "Procedemos a calculas los diferentes terminos de la ecucación, por lo que obtenemos para el termino de orden 0:\n",
    "\\begin{align}\n",
    "    3&=3 \\mathcal{p}_0(x)\\\\\n",
    "\\end{align}"
   ]
  },
  {
   "cell_type": "markdown",
   "id": "4e83c193",
   "metadata": {},
   "source": [
    "Calculamos el termino de orden 1\n",
    "\\begin{align}\n",
    "    5x&=5\\mathcal{p}_1(x)\n",
    "\\end{align}"
   ]
  },
  {
   "cell_type": "markdown",
   "id": "b5e986f0",
   "metadata": {},
   "source": [
    "Calculamos el termino de orden 2\n",
    "\\begin{align}\n",
    "    2\\mathcal{p}_2(x)&=3x^2-1 \\\\\n",
    "    2\\mathcal{p}_2(x)+1&=3x^2 \\\\\n",
    "    \\dfrac{2\\mathcal{p}_2(x)+1}{3}&=x^2\n",
    "\\end{align}"
   ]
  },
  {
   "cell_type": "markdown",
   "id": "3bde8841",
   "metadata": {},
   "source": [
    "Luego $$\\mathcal{p}(x)= 3 \\mathcal{p}_0(x)+5\\mathcal{p}_1(x)+\\dfrac{2\\mathcal{p}_2(x)+1}{3}$$\n",
    "$$\\mathcal{p}(x)=3 \\mathcal{p}_0(x)+5\\mathcal{p}_1(x)+\\dfrac{2\\mathcal{p}_2(x)}{3}+\\dfrac{\\mathcal{p}_0(x)}{3}$$\n",
    "$$\\mathcal{p}(x)=\\dfrac{10}{3} \\mathcal{p}_0(x)+5\\mathcal{p}_1(x)+\\dfrac{2}{3}\\mathcal{p}_2(x)$$"
   ]
  }
 ],
 "metadata": {
  "kernelspec": {
   "display_name": "Python 3 (ipykernel)",
   "language": "python",
   "name": "python3"
  },
  "language_info": {
   "codemirror_mode": {
    "name": "ipython",
    "version": 3
   },
   "file_extension": ".py",
   "mimetype": "text/x-python",
   "name": "python",
   "nbconvert_exporter": "python",
   "pygments_lexer": "ipython3",
   "version": "3.9.7"
  }
 },
 "nbformat": 4,
 "nbformat_minor": 5
}
