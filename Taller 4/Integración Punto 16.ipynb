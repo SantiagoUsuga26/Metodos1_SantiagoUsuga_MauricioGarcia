{
 "cells": [
  {
   "cell_type": "code",
   "execution_count": 1,
   "id": "d9df114c",
   "metadata": {},
   "outputs": [
    {
     "name": "stderr",
     "output_type": "stream",
     "text": [
      "Matplotlib is building the font cache; this may take a moment.\n"
     ]
    }
   ],
   "source": [
    "import numpy as np\n",
    "import sympy as sym\n",
    "from tqdm import tqdm\n",
    "import matplotlib.pyplot as plt"
   ]
  },
  {
   "cell_type": "code",
   "execution_count": 2,
   "id": "82d6e968",
   "metadata": {},
   "outputs": [],
   "source": [
    "def funcion(x):\n",
    "    f_x=(x**3)/(np.exp(x)-1)\n",
    "    return f_x"
   ]
  },
  {
   "cell_type": "code",
   "execution_count": 3,
   "id": "125400d2",
   "metadata": {},
   "outputs": [],
   "source": [
    "def PolinomioLaguerre(n):\n",
    "    x = sym.Symbol('x', Real=True)\n",
    "    y = sym.Symbol('y', Real=True)\n",
    "    \n",
    "    y = sym.exp(-x)*x**n\n",
    "    pol_n = sym.exp(x)*sym.diff(y, x, n)/(np.math.factorial(n))\n",
    "\n",
    "    polinomio_func = sym.lambdify([x], pol_n, 'numpy')\n",
    "    return polinomio_func, pol_n"
   ]
  },
  {
   "cell_type": "code",
   "execution_count": 4,
   "id": "53a865e9",
   "metadata": {},
   "outputs": [],
   "source": [
    "def NewtonRapson(f, df, xn, itmax=10000, precision = 1e-8):\n",
    "    error = 1\n",
    "    it = 0\n",
    "    while error>precision and it<itmax:\n",
    "        try:\n",
    "            xn1 = xn - f(xn)/df(xn)\n",
    "            error = np.abs(f(xn)/df(xn))\n",
    "        except ZeroDivisionError:\n",
    "            print('División por cero')\n",
    "        xn = xn1\n",
    "        it += 1\n",
    "    if it == itmax:\n",
    "        return False\n",
    "    else:\n",
    "        return xn"
   ]
  },
  {
   "cell_type": "code",
   "execution_count": 22,
   "id": "0463f7fc",
   "metadata": {},
   "outputs": [],
   "source": [
    "def obtenerRaices(n, decimales,puntos=int(5e3)):\n",
    "    x = sym.Symbol('x', Real=True)\n",
    "    x_prueba = np.linspace(0, 1000,puntos)\n",
    "    raices = np.array([])\n",
    "    polinomio,pol_n = PolinomioLaguerre(n)\n",
    "    dpol = sym.diff(pol_n, x, 1)\n",
    "    dpol = sym.lambdify([x], dpol, 'numpy')\n",
    "    for i in x_prueba:\n",
    "        raiz = NewtonRapson(polinomio, dpol, i)\n",
    "        raiz_r = np.round(raiz, decimales)\n",
    "        if raiz_r not in raices:\n",
    "            raices = np.append(raices, raiz_r)\n",
    "    raices.sort()\n",
    "    return raices"
   ]
  },
  {
   "cell_type": "code",
   "execution_count": 23,
   "id": "a01c99d5",
   "metadata": {},
   "outputs": [],
   "source": [
    "def pesoLaguerre(n, raiz,pol_next):\n",
    "    peso=raiz/((n+1)**2*(pol_next(raiz))**2)\n",
    "    return peso"
   ]
  },
  {
   "cell_type": "code",
   "execution_count": 24,
   "id": "7e2d702b",
   "metadata": {},
   "outputs": [],
   "source": [
    "def cuadraturaGaussLaguerre(f,n, decimales=9):\n",
    "    raices = obtenerRaices(n, decimales)\n",
    "    pesos=np.array([])\n",
    "    valores=np.array([])\n",
    "    for raiz in raices:\n",
    "        peso = pesoLaguerre(n, raiz, PolinomioLaguerre(n+1)[0])\n",
    "        pesos=np.append(pesos,peso)\n",
    "        f_x = f(raiz)\n",
    "        valores=np.append(valores,f_x)\n",
    "\n",
    "    integral = np.sum(pesos*valores)\n",
    "    \n",
    "    integral_aprox=round(integral, decimales)\n",
    "\n",
    "    return integral_aprox"
   ]
  },
  {
   "cell_type": "code",
   "execution_count": 25,
   "id": "5966a22e",
   "metadata": {},
   "outputs": [],
   "source": [
    "def errorGaussLaguerre(n, decimales=9):\n",
    "    errors = np.array([])\n",
    "    for value in tqdm(n):\n",
    "        errors = np.append(errors, cuadraturaGaussLaguerre(funcion,value,decimales)/(np.pi**4/15))\n",
    "    return errors"
   ]
  },
  {
   "cell_type": "code",
   "execution_count": 26,
   "id": "8fd3f921",
   "metadata": {},
   "outputs": [
    {
     "name": "stdout",
     "output_type": "stream",
     "text": [
      "Punto a: Integral calculada por cuadratura de Gauss-Laguerre con n = 3 y 9 cifras decimales de aproximación es 0.481130172\n"
     ]
    }
   ],
   "source": [
    "rta_a=cuadraturaGaussLaguerre(funcion,3)\n",
    "print(f\"Punto a: Integral calculada por cuadratura de Gauss-Laguerre con n = 3 y 9 cifras decimales de aproximación es {rta_a}\")"
   ]
  },
  {
   "cell_type": "code",
   "execution_count": 27,
   "id": "d7305ad2",
   "metadata": {},
   "outputs": [
    {
     "name": "stderr",
     "output_type": "stream",
     "text": [
      "100%|████████████████████████████████████████████████████████████████████████████████████| 9/9 [00:16<00:00,  1.88s/it]\n"
     ]
    },
    {
     "data": {
      "text/plain": [
       "Text(0.5, 1.0, 'Precisión Cuadratura de Gauss Laguerre calculada')"
      ]
     },
     "execution_count": 27,
     "metadata": {},
     "output_type": "execute_result"
    },
    {
     "data": {
      "image/png": "[encoded data removed]",
      "text/plain": [
       "<Figure size 432x288 with 1 Axes>"
      ]
     },
     "metadata": {
      "needs_background": "light"
     },
     "output_type": "display_data"
    }
   ],
   "source": [
    "n = np.linspace(2, 10, 9, dtype=int)\n",
    "rta_b=errorGaussLaguerre(n)\n",
    "fig = plt.figure()\n",
    "ax = fig.add_subplot()\n",
    "ax.scatter(n, rta_b, label= \"Error Calculado\", color='black')\n",
    "ax.legend()\n",
    "ax.set_ylabel(\"Error\")\n",
    "ax.set_xlabel(\"n\")\n",
    "ax.grid()\n",
    "ax.set_axisbelow(True)\n",
    "plt.title(\"Precisión Cuadratura de Gauss Laguerre calculada\")"
   ]
  }
 ],
 "metadata": {
  "kernelspec": {
   "display_name": "Python 3 (ipykernel)",
   "language": "python",
   "name": "python3"
  },
  "language_info": {
   "codemirror_mode": {
    "name": "ipython",
    "version": 3
   },
   "file_extension": ".py",
   "mimetype": "text/x-python",
   "name": "python",
   "nbconvert_exporter": "python",
   "pygments_lexer": "ipython3",
   "version": "3.9.7"
  }
 },
 "nbformat": 4,
 "nbformat_minor": 5
}
