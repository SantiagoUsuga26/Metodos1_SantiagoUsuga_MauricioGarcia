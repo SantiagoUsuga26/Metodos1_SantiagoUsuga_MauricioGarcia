{
 "cells": [
  {
   "cell_type": "code",
   "execution_count": 3,
   "id": "b6a44a87",
   "metadata": {},
   "outputs": [],
   "source": [
    "import numpy as np\n",
    "import sympy as sy"
   ]
  },
  {
   "cell_type": "code",
   "execution_count": 5,
   "id": "69d54fb3",
   "metadata": {},
   "outputs": [],
   "source": [
    "x=sy.Symbol(\"x\",Real=True)"
   ]
  },
  {
   "cell_type": "markdown",
   "id": "19b10eda",
   "metadata": {},
   "source": [
    "Evaluando $a=0 \\text{  y } b=3h$, obtenemos que:\n",
    "$$E=\\dfrac{f^{(4)}(\\xi)}{4!}\\int_0^{3h} (x-x_0)(x-x_1)(x-x_2)(x-x_3)dx =\\dfrac{f^{(4)}(\\xi)}{4!}\\int_0^{3h} x(x-h)(x-2h)(x-3h)dx$$"
   ]
  },
  {
   "cell_type": "code",
   "execution_count": 13,
   "id": "fa87a304",
   "metadata": {},
   "outputs": [
    {
     "data": {
      "text/latex": [
       "$\\displaystyle - 6 h^{3} x + 11 h^{2} x^{2} - 6 h x^{3} + x^{4}$"
      ],
      "text/plain": [
       "-6*h**3*x + 11*h**2*x**2 - 6*h*x**3 + x**4"
      ]
     },
     "execution_count": 13,
     "metadata": {},
     "output_type": "execute_result"
    }
   ],
   "source": [
    "h=sy.Symbol(\"h\")\n",
    "expanded_prod=sy.expand(x*(x-h)*(x-2*h)*(x-3*h))\n",
    "expanded_prod"
   ]
  },
  {
   "cell_type": "markdown",
   "id": "58cc68ca",
   "metadata": {},
   "source": [
    "Por lo que tenemos:\n",
    "$$E=\\dfrac{f^{(4)}(\\xi)}{4!}\\int_0^{3h} x^4-6hx^3+11h^2x^2-6h^3x\\ dx$$"
   ]
  },
  {
   "cell_type": "code",
   "execution_count": 19,
   "id": "9e81e8a5",
   "metadata": {},
   "outputs": [
    {
     "data": {
      "text/latex": [
       "$\\displaystyle - 3 h^{3} x^{2} + \\frac{11 h^{2} x^{3}}{3} - \\frac{3 h x^{4}}{2} + \\frac{x^{5}}{5}$"
      ],
      "text/plain": [
       "-3*h**3*x**2 + 11*h**2*x**3/3 - 3*h*x**4/2 + x**5/5"
      ]
     },
     "execution_count": 19,
     "metadata": {},
     "output_type": "execute_result"
    }
   ],
   "source": [
    "int_ind=sy.integrate(expanded_prod,x)\n",
    "int_ind"
   ]
  },
  {
   "cell_type": "code",
   "execution_count": 22,
   "id": "7f56ecc3",
   "metadata": {},
   "outputs": [
    {
     "data": {
      "text/latex": [
       "$\\displaystyle - \\frac{9 h^{5}}{10}$"
      ],
      "text/plain": [
       "-9*h**5/10"
      ]
     },
     "execution_count": 22,
     "metadata": {},
     "output_type": "execute_result"
    }
   ],
   "source": [
    "int_def=sy.integrate(expanded_prod,(x,0,3*h))\n",
    "int_def"
   ]
  },
  {
   "cell_type": "markdown",
   "id": "90713c6b",
   "metadata": {},
   "source": [
    "Por lo que:\n",
    "   $$E=\\dfrac{f^{(4)}(\\xi)}{24}\\left(-\\dfrac{9h^5}{10}\\right)$$"
   ]
  },
  {
   "cell_type": "code",
   "execution_count": 23,
   "id": "76c307d0",
   "metadata": {},
   "outputs": [
    {
     "data": {
      "text/latex": [
       "$\\displaystyle - \\frac{3 h^{5}}{80}$"
      ],
      "text/plain": [
       "-3*h**5/80"
      ]
     },
     "execution_count": 23,
     "metadata": {},
     "output_type": "execute_result"
    }
   ],
   "source": [
    "int_def/24"
   ]
  },
  {
   "cell_type": "markdown",
   "id": "bea0e8b5",
   "metadata": {},
   "source": [
    "Finalmente tenemos que:\n",
    "$$E=-\\dfrac{3}{80}h^5f^{(4)}(\\xi)$$"
   ]
  },
  {
   "cell_type": "code",
   "execution_count": null,
   "id": "b55abad7",
   "metadata": {},
   "outputs": [],
   "source": []
  }
 ],
 "metadata": {
  "kernelspec": {
   "display_name": "Python 3 (ipykernel)",
   "language": "python",
   "name": "python3"
  },
  "language_info": {
   "codemirror_mode": {
    "name": "ipython",
    "version": 3
   },
   "file_extension": ".py",
   "mimetype": "text/x-python",
   "name": "python",
   "nbconvert_exporter": "python",
   "pygments_lexer": "ipython3",
   "version": "3.9.7"
  }
 },
 "nbformat": 4,
 "nbformat_minor": 5
}
