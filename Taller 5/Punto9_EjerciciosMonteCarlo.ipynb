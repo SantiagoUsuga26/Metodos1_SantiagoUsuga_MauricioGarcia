{
 "cells": [
  {
   "cell_type": "code",
   "execution_count": 17,
   "id": "ee9008e5",
   "metadata": {},
   "outputs": [],
   "source": [
    "import numpy as np\n",
    "from tqdm import tqdm"
   ]
  },
  {
   "cell_type": "code",
   "execution_count": 29,
   "id": "14ccfa6a",
   "metadata": {},
   "outputs": [],
   "source": [
    "def f(x1,x2,x3,x4,x5,x6,x7,x8):\n",
    "    func = 2**(-7)*(x1+x2+x3+x4+x5+x6+x7+x8)**2\n",
    "    return func"
   ]
  },
  {
   "cell_type": "code",
   "execution_count": 42,
   "id": "c9557bfb",
   "metadata": {},
   "outputs": [],
   "source": [
    "def GetPoints(xmin,xmax):\n",
    "    x=np.zeros(8)\n",
    "    for i in range(8):\n",
    "        x[i] = np.random.uniform(xmin,xmax)\n",
    "        \n",
    "    x1,x2,x3,x4,x5,x6,x7,x8 = x[0],x[1],x[2],x[3],x[4],x[5],x[6],x[7]\n",
    "    \n",
    "    return x1,x2,x3,x4,x5,x6,x7,x8"
   ]
  },
  {
   "cell_type": "code",
   "execution_count": 43,
   "id": "ea64afbe",
   "metadata": {},
   "outputs": [],
   "source": [
    "N = int(1e5)\n",
    "Sample = np.zeros(N)\n",
    "\n",
    "for i in range(N):\n",
    "    x1,x2,x3,x4,x5,x6,x7,x8 = GetPoints(0,1)\n",
    "    Sample[i] = f(x1,x2,x3,x4,x5,x6,x7,x8)\n",
    "    "
   ]
  },
  {
   "cell_type": "code",
   "execution_count": 44,
   "id": "64e6d9a5",
   "metadata": {},
   "outputs": [],
   "source": [
    "Integral = np.average( Sample )"
   ]
  },
  {
   "cell_type": "code",
   "execution_count": 45,
   "id": "b399e248",
   "metadata": {},
   "outputs": [
    {
     "name": "stdout",
     "output_type": "stream",
     "text": [
      "0.130235152339901 0.13020833333333334\n"
     ]
    }
   ],
   "source": [
    "print(Integral, 25/192)"
   ]
  },
  {
   "cell_type": "code",
   "execution_count": null,
   "id": "62eda12f",
   "metadata": {},
   "outputs": [],
   "source": []
  }
 ],
 "metadata": {
  "kernelspec": {
   "display_name": "Python 3 (ipykernel)",
   "language": "python",
   "name": "python3"
  },
  "language_info": {
   "codemirror_mode": {
    "name": "ipython",
    "version": 3
   },
   "file_extension": ".py",
   "mimetype": "text/x-python",
   "name": "python",
   "nbconvert_exporter": "python",
   "pygments_lexer": "ipython3",
   "version": "3.9.12"
  }
 },
 "nbformat": 4,
 "nbformat_minor": 5
}
