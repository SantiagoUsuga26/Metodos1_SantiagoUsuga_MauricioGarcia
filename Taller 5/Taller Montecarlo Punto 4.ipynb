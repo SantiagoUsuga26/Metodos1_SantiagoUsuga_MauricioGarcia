{
 "cells": [
  {
   "cell_type": "code",
   "execution_count": 1,
   "id": "ebc16be1",
   "metadata": {},
   "outputs": [
    {
     "name": "stderr",
     "output_type": "stream",
     "text": [
      "Matplotlib is building the font cache; this may take a moment.\n"
     ]
    }
   ],
   "source": [
    "import numpy as np\n",
    "import matplotlib.pyplot as plt"
   ]
  },
  {
   "cell_type": "code",
   "execution_count": 47,
   "id": "8237e0ab",
   "metadata": {},
   "outputs": [],
   "source": [
    "#Punto 4\n",
    "N=10**4\n",
    "k_def=30\n",
    "rands=np.random.rand(N)\n",
    "def Correlacion_kesima(k_i,n,x):\n",
    "    suma=0\n",
    "    for i in range(n-k_i):\n",
    "        suma+=(x[i]*x[i+k_i])\n",
    "    c_k=suma/n\n",
    "    return c_k"
   ]
  },
  {
   "cell_type": "code",
   "execution_count": 48,
   "id": "ad591ebf",
   "metadata": {},
   "outputs": [],
   "source": [
    "x=np.zeros(k_def)\n",
    "y=np.zeros_like(x)\n",
    "\n",
    "for i in range(0,30):\n",
    "    x[i]=i+1\n",
    "    y[i]=Correlacion_kesima(i+1,N,rands)"
   ]
  },
  {
   "cell_type": "code",
   "execution_count": 50,
   "id": "875087c4",
   "metadata": {},
   "outputs": [
    {
     "data": {
      "image/png": "[encoded data removed]",
      "text/plain": [
       "<Figure size 360x360 with 1 Axes>"
      ]
     },
     "metadata": {
      "needs_background": "light"
     },
     "output_type": "display_data"
    }
   ],
   "source": [
    "fig = plt.figure(figsize=(5,5))\n",
    "ax = fig.add_subplot()\n",
    "ax.plot(x, y, color='blue')\n",
    "ax.set_ylabel(\"C(k)\")\n",
    "ax.set_xlabel(\"k-esimo vecino\")\n",
    "ax.set(ylim=(0.2, 0.3))\n",
    "ax.grid()\n",
    "ax.set_axisbelow(True)\n",
    "plt.title(\"Generador Numpy\")\n",
    "plt.show()"
   ]
  }
 ],
 "metadata": {
  "kernelspec": {
   "display_name": "Python 3 (ipykernel)",
   "language": "python",
   "name": "python3"
  },
  "language_info": {
   "codemirror_mode": {
    "name": "ipython",
    "version": 3
   },
   "file_extension": ".py",
   "mimetype": "text/x-python",
   "name": "python",
   "nbconvert_exporter": "python",
   "pygments_lexer": "ipython3",
   "version": "3.9.7"
  }
 },
 "nbformat": 4,
 "nbformat_minor": 5
}
