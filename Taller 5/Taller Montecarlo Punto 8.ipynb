{
 "cells": [
  {
   "cell_type": "code",
   "execution_count": 1,
   "id": "3dc51595",
   "metadata": {},
   "outputs": [],
   "source": [
    "import numpy as np\n",
    "from tqdm import tqdm\n",
    "import math as mt\n",
    "import matplotlib.pyplot as plt"
   ]
  },
  {
   "cell_type": "code",
   "execution_count": 2,
   "id": "1a53bb49",
   "metadata": {},
   "outputs": [],
   "source": [
    "def Beta(n):\n",
    "    num=n-1\n",
    "    beta_n=mt.factorial(num)\n",
    "    return beta_n"
   ]
  },
  {
   "cell_type": "code",
   "execution_count": 3,
   "id": "1bac906a",
   "metadata": {},
   "outputs": [],
   "source": [
    "#incertidumbre=0,01\n",
    "alpha=2\n",
    "beta=4\n",
    "n_points=int(1e4)\n",
    "#0<=x<=1\n",
    "x=np.random.uniform(0,1,n_points)"
   ]
  },
  {
   "cell_type": "code",
   "execution_count": 4,
   "id": "409e89b8",
   "metadata": {},
   "outputs": [],
   "source": [
    "def funcion(x,a:int,b:int):\n",
    "    f_x=1\n",
    "    num=Beta(a+b)\n",
    "    dem=Beta(a)*Beta(b)\n",
    "    f_x=(num/dem)*x**(a-1)*(1-x)**(b-1)\n",
    "    return f_x"
   ]
  },
  {
   "cell_type": "code",
   "execution_count": 5,
   "id": "222b1946",
   "metadata": {},
   "outputs": [
    {
     "data": {
      "text/plain": [
       "0.8049857982043269"
      ]
     },
     "execution_count": 5,
     "metadata": {},
     "output_type": "execute_result"
    }
   ],
   "source": [
    "f_x=funcion(x,alpha,beta)\n",
    "f_x[0]"
   ]
  },
  {
   "cell_type": "code",
   "execution_count": 6,
   "id": "0f3fc7bc",
   "metadata": {},
   "outputs": [
    {
     "data": {
      "text/plain": [
       "0.24998003356867482"
      ]
     },
     "execution_count": 6,
     "metadata": {},
     "output_type": "execute_result"
    }
   ],
   "source": [
    "maximo=f_x.max()\n",
    "index_max=np.where(f_x==f_x.max())[0][0]\n",
    "x_max=x[index_max]\n",
    "x_max"
   ]
  },
  {
   "cell_type": "markdown",
   "id": "309aebbc",
   "metadata": {},
   "source": [
    "Tome $x_{max}\\approx0,25=\\dfrac{1}{4}$:\n",
    "$$f(x_{max};\\alpha,\\beta)=\\dfrac{\\Gamma(\\alpha+\\beta)}{\\Gamma(\\alpha)\\Gamma(\\beta)}x_{max}^{\\alpha-1}(1-x_{max})^{\\beta-1}$$\n",
    "\n",
    "$$f(\\dfrac{1}{4};2,4)=\\dfrac{\\Gamma(2+4)}{\\Gamma(2)\\Gamma(4)}(\\dfrac{1}{4})^{2-1}(1-\\dfrac{1}{4})^{4-1}$$\n",
    "\n",
    "$$f(\\dfrac{1}{4};2,4)=\\dfrac{(6-1)!}{(2-1)!(4-1)!}\\left(\\dfrac{1}{4}\\right)^{1}\\left(\\dfrac{3}{4}\\right)^{3}$$\n",
    "\n",
    "$$f(\\dfrac{1}{4};2,4)=\\dfrac{(5)!}{(3)!}\\left(\\dfrac{1}{4}\\right)\\left(\\dfrac{3}{4}\\right)^{3}$$\n",
    "\n",
    "\n",
    "$$f(\\dfrac{1}{4};2,4)=\\dfrac{120}{6}\\left(\\dfrac{1}{4}\\right)\\left(\\dfrac{27}{64}\\right)$$\n",
    "\n",
    "$$f(\\dfrac{1}{4};2,4)=\\dfrac{135}{4}$$\n",
    "\n",
    "$$f_{max}=\\dfrac{135}{4}$$"
   ]
  },
  {
   "cell_type": "code",
   "execution_count": 7,
   "id": "bd703026",
   "metadata": {},
   "outputs": [],
   "source": [
    "f_max=135/64\n",
    "y=np.random.uniform(0,f_max,n_points)"
   ]
  },
  {
   "cell_type": "code",
   "execution_count": 8,
   "id": "d1eef3c8",
   "metadata": {},
   "outputs": [
    {
     "name": "stderr",
     "output_type": "stream",
     "text": [
      "100%|███████████████████████████████████████████████████████████████████████| 10000/10000 [00:00<00:00, 1248490.55it/s]\n"
     ]
    }
   ],
   "source": [
    "validos = 0\n",
    "for i in tqdm(range(n_points)):\n",
    "    if (y[i]<f_x[i]):\n",
    "        validos+=1\n",
    "\n",
    "integral = f_max * validos/n_points\n",
    "error = np.abs(1-integral)"
   ]
  },
  {
   "cell_type": "code",
   "execution_count": 9,
   "id": "2fe8977b",
   "metadata": {},
   "outputs": [
    {
     "name": "stdout",
     "output_type": "stream",
     "text": [
      "0.9928828125\n",
      "0.007117187500000011\n"
     ]
    }
   ],
   "source": [
    "print(integral)\n",
    "print(error)"
   ]
  },
  {
   "cell_type": "markdown",
   "id": "a970a7b5",
   "metadata": {},
   "source": [
    "$$\\int f(x;\\alpha;\\beta)_{hallado}=0.9928828125$$\n",
    "$$\\text{Error}=7.117187500000011e-03$$"
   ]
  },
  {
   "cell_type": "code",
   "execution_count": null,
   "id": "8a885464",
   "metadata": {},
   "outputs": [],
   "source": []
  }
 ],
 "metadata": {
  "kernelspec": {
   "display_name": "Python 3 (ipykernel)",
   "language": "python",
   "name": "python3"
  },
  "language_info": {
   "codemirror_mode": {
    "name": "ipython",
    "version": 3
   },
   "file_extension": ".py",
   "mimetype": "text/x-python",
   "name": "python",
   "nbconvert_exporter": "python",
   "pygments_lexer": "ipython3",
   "version": "3.9.7"
  }
 },
 "nbformat": 4,
 "nbformat_minor": 5
}
