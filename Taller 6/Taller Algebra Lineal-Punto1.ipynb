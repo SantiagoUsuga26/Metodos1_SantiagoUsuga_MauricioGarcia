{
 "cells": [
  {
   "cell_type": "code",
   "execution_count": 1,
   "id": "9af5c9e5",
   "metadata": {},
   "outputs": [],
   "source": [
    "import numpy as np"
   ]
  },
  {
   "cell_type": "code",
   "execution_count": 2,
   "id": "eb6c1a06",
   "metadata": {},
   "outputs": [],
   "source": [
    "matriz = np.array([[3,-1,-1],[-1.,3.,1.],[2,1,4]])\n",
    "vector_buscado = np.array([1.,3.,7.])"
   ]
  },
  {
   "cell_type": "code",
   "execution_count": 8,
   "id": "0c52b08e",
   "metadata": {},
   "outputs": [],
   "source": [
    "def metodoGaussSeidel(A, b, itmax, error):\n",
    "    shape= np.shape(A)\n",
    "    filas = shape[0]\n",
    "    columnas = shape[1]\n",
    "    x = np.zeros(filas)\n",
    "    totales = np.zeros_like(x)\n",
    "    contador = 0\n",
    "    residuo = np.linalg.norm(b - np.dot(A,x))\n",
    "    while ( residuo > error and contador < itmax ):\n",
    "        contador += 1\n",
    "        for i in range(filas):\n",
    "            sumatorio = 0\n",
    "            for j in range(columnas):\n",
    "                if i!=j:\n",
    "                    sumatorio += A[i][j]*x[j]\n",
    "                totales[i]=sumatorio\n",
    "                if A[i][i] != 0:\n",
    "                    x[i] = (b[i] - totales[i])/A[i,i]\n",
    "                else:\n",
    "                    print(f\"No fue posible determinar la solución para el sistema A*X=b\")\n",
    "        residuo = np.linalg.norm(b-np.dot(A,x))\n",
    "    it=contador\n",
    "    return x, it, residuo"
   ]
  },
  {
   "cell_type": "code",
   "execution_count": 10,
   "id": "f4d1107f",
   "metadata": {},
   "outputs": [
    {
     "name": "stdout",
     "output_type": "stream",
     "text": [
      "El vector X=[1. 1. 1.] soluciona el sistema.\n",
      "Este fue encontrado tras 20 iteraciones, y se estima un error de 3.2238513348566335e-12.\n",
      "\n"
     ]
    }
   ],
   "source": [
    "Xsol,it,error = metodoGaussSeidel(matriz,vector_buscado,1e9,1e-11)\n",
    "print(f\"El vector X={Xsol} soluciona el sistema.\\nEste fue encontrado tras {it} iteraciones, y se estima un error de {error}.\\n\")"
   ]
  },
  {
   "cell_type": "code",
   "execution_count": 12,
   "id": "397b65d0",
   "metadata": {},
   "outputs": [
    {
     "data": {
      "text/plain": [
       "array([1., 1., 1.])"
      ]
     },
     "execution_count": 12,
     "metadata": {},
     "output_type": "execute_result"
    }
   ],
   "source": [
    "np.linalg.solve(matriz,vector_buscado)"
   ]
  }
 ],
 "metadata": {
  "kernelspec": {
   "display_name": "Python 3 (ipykernel)",
   "language": "python",
   "name": "python3"
  },
  "language_info": {
   "codemirror_mode": {
    "name": "ipython",
    "version": 3
   },
   "file_extension": ".py",
   "mimetype": "text/x-python",
   "name": "python",
   "nbconvert_exporter": "python",
   "pygments_lexer": "ipython3",
   "version": "3.9.7"
  }
 },
 "nbformat": 4,
 "nbformat_minor": 5
}
