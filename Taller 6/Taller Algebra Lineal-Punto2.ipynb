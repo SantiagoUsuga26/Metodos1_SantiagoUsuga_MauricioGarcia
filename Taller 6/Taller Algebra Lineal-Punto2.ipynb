{
 "cells": [
  {
   "cell_type": "code",
   "execution_count": 1,
   "id": "add930a2",
   "metadata": {},
   "outputs": [],
   "source": [
    "import numpy as np"
   ]
  },
  {
   "cell_type": "code",
   "execution_count": 2,
   "id": "c78231ca",
   "metadata": {},
   "outputs": [],
   "source": [
    "A = np.array([[3,-1,-1],[-1.,3.,1.],[2,1,4]])\n",
    "b = np.array([1.,3.,7.])"
   ]
  },
  {
   "cell_type": "code",
   "execution_count": 3,
   "id": "cc2a92ed",
   "metadata": {},
   "outputs": [],
   "source": [
    "class WolframChiquito:\n",
    "    def __init__(self, A, b):\n",
    "        self.A = A\n",
    "        self.b = b\n",
    "\n",
    "    def GetSolMetodoGaussSeidel(self, itmax=1e9, error=1e-12):\n",
    "        shape= np.shape(A)\n",
    "        filas = shape[0]\n",
    "        columnas = shape[1]\n",
    "        x = np.zeros(filas)\n",
    "        totales = np.zeros_like(x)\n",
    "        contador = 0\n",
    "        residuo = np.linalg.norm(b - np.dot(A,x))\n",
    "        while ( residuo > error and contador < itmax ):\n",
    "            contador += 1\n",
    "            for i in range(filas):\n",
    "                sumatorio = 0\n",
    "                for j in range(columnas):\n",
    "                    if i!=j:\n",
    "                        sumatorio += A[i][j]*x[j]\n",
    "                    totales[i]=sumatorio\n",
    "                    if A[i][i] != 0:\n",
    "                        x[i] = (b[i] - totales[i])/A[i,i]\n",
    "                    else:\n",
    "                        print(f\"No fue posible determinar la solución para el sistema A*X=b, mediante el metodo de Gauss Siedel.\")\n",
    "            residuo = np.linalg.norm(b-np.dot(A,x))\n",
    "        it=contador\n",
    "        return x, it\n",
    "    def GetSolMetodoJacobi(self, itmax=1e9, error=1e-12):\n",
    "        shape= np.shape(A)\n",
    "        filas = shape[0]\n",
    "        columnas = shape[1]\n",
    "        solucion = np.zeros(columnas)\n",
    "        totales = np.zeros_like(solucion)        \n",
    "        contador = 0\n",
    "        residuo = np.linalg.norm(self.b - np.dot(self.A,solucion))\n",
    "        while (residuo > error and contador < itmax):\n",
    "            contador += 1\n",
    "            for i in range(filas):\n",
    "                sumatorio = 0\n",
    "                for j in range(columnas):\n",
    "                    if i != j:\n",
    "                        sumatorio += self.A[i][j]*solucion[j]\n",
    "                totales[i] = sumatorio\n",
    "            for i in range(filas):\n",
    "                if self.A[i,i] != 0:\n",
    "                    solucion[i] = (self.b[i] - totales[i])/self.A[i,i]\n",
    "                else:\n",
    "                    print(f\"No fue posible determinar la solución para el sistema A*X=b, mediante el metodo de Jacobi\")\n",
    "            residuo = np.linalg.norm(self.b - np.dot(self.A,solucion))\n",
    "        it=contador\n",
    "        return solucion, it"
   ]
  },
  {
   "cell_type": "code",
   "execution_count": 6,
   "id": "627e8520",
   "metadata": {},
   "outputs": [],
   "source": [
    "SistemaPrueba = WolframChiquito(A, b)\n",
    "solucionGaussSeidel, iteracionesGaussSeidel = SistemaPrueba.GetSolMetodoGaussSeidel()\n",
    "solucionJacobi, iteracionesJacobi = SistemaPrueba.GetSolMetodoJacobi()"
   ]
  },
  {
   "cell_type": "code",
   "execution_count": 7,
   "id": "34278ab3",
   "metadata": {},
   "outputs": [
    {
     "name": "stdout",
     "output_type": "stream",
     "text": [
      "Metodo Gauss Seidel: Solución=[1. 1. 1.] hallada en 21 iteraciones.\n",
      "Metodo de Jacobi: Solución=[1. 1. 1.] hallada en 27 iteraciones.\n"
     ]
    }
   ],
   "source": [
    "print(f\"Metodo Gauss Seidel: Solución={solucionGaussSeidel} hallada en {iteracionesGaussSeidel} iteraciones.\\nMetodo de Jacobi: Solución={solucionJacobi} hallada en {iteracionesJacobi} iteraciones.\")"
   ]
  },
  {
   "cell_type": "code",
   "execution_count": null,
   "id": "d9c0cb6b",
   "metadata": {},
   "outputs": [],
   "source": []
  }
 ],
 "metadata": {
  "kernelspec": {
   "display_name": "Python 3 (ipykernel)",
   "language": "python",
   "name": "python3"
  },
  "language_info": {
   "codemirror_mode": {
    "name": "ipython",
    "version": 3
   },
   "file_extension": ".py",
   "mimetype": "text/x-python",
   "name": "python",
   "nbconvert_exporter": "python",
   "pygments_lexer": "ipython3",
   "version": "3.9.7"
  }
 },
 "nbformat": 4,
 "nbformat_minor": 5
}
