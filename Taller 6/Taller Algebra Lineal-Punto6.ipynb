{
 "cells": [
  {
   "cell_type": "code",
   "execution_count": 16,
   "id": "173b4416",
   "metadata": {},
   "outputs": [],
   "source": [
    "import numpy as np\n",
    "import matplotlib.pyplot as plt\n",
    "from IPython.display import clear_output\n",
    "import time"
   ]
  },
  {
   "cell_type": "code",
   "execution_count": 86,
   "id": "81a053dc",
   "metadata": {},
   "outputs": [],
   "source": [
    "G=(lambda x1,x2: np.log(x1**2 + x2**2) - np.sin(x1*x2) - np.log(2) - np.log(np.pi), \\\n",
    "   lambda x1,x2: np.exp(x1-x2)+np.cos(x1*x2))\n",
    "\n",
    "G1=(lambda x1,x2,x3: 6*x1-2*np.cos(x2*x3)-1, \\\n",
    "   lambda x1,x2,x3: 9*x2+np.sqrt(x1**2+np.sin(x3)+1.06)+0.9, \\\n",
    "   lambda x1,x2,x3: 60*x3+3*np.exp(-x1*x2)+10*np.pi-3)"
   ]
  },
  {
   "cell_type": "code",
   "execution_count": 75,
   "id": "06e0a08a",
   "metadata": {},
   "outputs": [],
   "source": [
    "def GetVectorF_G(G,r):\n",
    "    \n",
    "    dim = len(G)\n",
    "    \n",
    "    v = np.zeros(dim)\n",
    "    \n",
    "    for i in range(dim):\n",
    "        v[i] = G[i](r[0],r[1])\n",
    "        \n",
    "    return v"
   ]
  },
  {
   "cell_type": "code",
   "execution_count": 76,
   "id": "640c7477",
   "metadata": {},
   "outputs": [],
   "source": [
    "def GetJacobian_G(G,r,h=1e-6):\n",
    "    \n",
    "    dim = len(G)\n",
    "    \n",
    "    J = np.zeros((dim,dim))\n",
    "    \n",
    "    for i in range(dim):\n",
    "        J[i,0] = (  G[i](r[0]+h,r[1]) - G[i](r[0]-h,r[1]) )/(2*h)\n",
    "        J[i,1] = (  G[i](r[0],r[1]+h) - G[i](r[0],r[1]-h) )/(2*h)\n",
    "        \n",
    "    return J.T"
   ]
  },
  {
   "cell_type": "code",
   "execution_count": 77,
   "id": "07adafff",
   "metadata": {},
   "outputs": [],
   "source": [
    "def GetMetric_G(G,r):\n",
    "    v = GetVectorF_G(G,r)\n",
    "    return 0.5*np.linalg.norm(v)**2"
   ]
  },
  {
   "cell_type": "code",
   "execution_count": 78,
   "id": "e6a7ad4e",
   "metadata": {},
   "outputs": [],
   "source": [
    "def GetSolve_G(G,r,lr=1e-3,epochs=int(1e5),error=1e-7):\n",
    "    \n",
    "    d = 1\n",
    "    it = 0\n",
    "    Vector_F = np.array([])\n",
    "    \n",
    "    R_vector = np.array(r)\n",
    "    \n",
    "    while d > error and it < epochs:\n",
    "        \n",
    "        CurrentF = GetMetric_G(G,r)\n",
    "        \n",
    "        J = GetJacobian_G(G,r)\n",
    "        \n",
    "        GVector = GetVectorF_G(G,r)\n",
    "        \n",
    "        r -= lr*np.dot(J,GVector) \n",
    "        \n",
    "        R_vector = np.vstack((R_vector,r))\n",
    "        \n",
    "        NewF = GetMetric_G(G,r)\n",
    "        \n",
    "        \n",
    "        Vector_F = np.append(Vector_F,NewF)\n",
    "        \n",
    "        d = np.abs( CurrentF - NewF )/NewF\n",
    "        \n",
    "        \n",
    "        if it%500 == 0:\n",
    "            \n",
    "            clear_output(wait=True)\n",
    "\n",
    "            time.sleep(0.01)\n",
    "    \n",
    "        it += 1\n",
    "        \n",
    "    if d < error:\n",
    "        print(' Entrenamiento completo ', d, 'iteraciones', it)\n",
    "        \n",
    "    if it == epochs:\n",
    "        print(' Entrenamiento no completado ')\n",
    "        \n",
    "    return r,it,Vector_F,R_vector"
   ]
  },
  {
   "cell_type": "code",
   "execution_count": 93,
   "id": "31c172ea",
   "metadata": {},
   "outputs": [
    {
     "name": "stdout",
     "output_type": "stream",
     "text": [
      " Entrenamiento completo  0.0 iteraciones 13218\n"
     ]
    }
   ],
   "source": [
    "xsol,it,F,R = GetSolve_G(G,[2,2],lr=1e-3)"
   ]
  },
  {
   "cell_type": "code",
   "execution_count": 94,
   "id": "8307ced6",
   "metadata": {},
   "outputs": [
    {
     "data": {
      "text/plain": [
       "array([1.77245385, 1.77245385])"
      ]
     },
     "execution_count": 94,
     "metadata": {},
     "output_type": "execute_result"
    }
   ],
   "source": [
    "xsol"
   ]
  },
  {
   "cell_type": "code",
   "execution_count": 66,
   "id": "1cee9a46",
   "metadata": {},
   "outputs": [],
   "source": [
    "def GetVectorF_G1(G,r):\n",
    "    \n",
    "    dim = len(G)\n",
    "    \n",
    "    v = np.zeros(dim)\n",
    "    \n",
    "    for i in range(dim):\n",
    "        v[i] = G1[i](r[0],r[1],r[2])\n",
    "        \n",
    "    return v"
   ]
  },
  {
   "cell_type": "code",
   "execution_count": 67,
   "id": "a2029242",
   "metadata": {},
   "outputs": [],
   "source": [
    "def GetJacobian_G1(G,r,h=1e-6):\n",
    "    \n",
    "    dim = len(G)\n",
    "    \n",
    "    J = np.zeros((dim,dim))\n",
    "    \n",
    "    for i in range(dim):\n",
    "        J[i,0] = (  G[i](r[0]+h,r[1],r[2]) - G[i](r[0]-h,r[1],r[2]) )/(2*h)\n",
    "        J[i,1] = (  G[i](r[0],r[1]+h,r[2]) - G[i](r[0],r[1]-h,r[2]) )/(2*h)\n",
    "        J[i,2] = (  G[i](r[0],r[1],r[2]+h) - G[i](r[0],r[1],r[2]-h) )/(2*h)\n",
    "        \n",
    "    return J.T"
   ]
  },
  {
   "cell_type": "code",
   "execution_count": 68,
   "id": "2973ab8c",
   "metadata": {},
   "outputs": [],
   "source": [
    "def GetMetric_G1(G,r):\n",
    "    v = GetVectorF_G1(G,r)\n",
    "    return 0.5*np.linalg.norm(v)**2"
   ]
  },
  {
   "cell_type": "code",
   "execution_count": 69,
   "id": "4a83e332",
   "metadata": {},
   "outputs": [],
   "source": [
    "def GetSolve_G1(G,r,lr=1e-3,epochs=int(1e5),error=1e-7):\n",
    "    \n",
    "    d = 1\n",
    "    it = 0\n",
    "    Vector_F = np.array([])\n",
    "    \n",
    "    R_vector = np.array(r)\n",
    "    \n",
    "    while d > error and it < epochs:\n",
    "        \n",
    "        CurrentF = GetMetric_G1(G,r)\n",
    "        \n",
    "        J = GetJacobian_G1(G,r)\n",
    "        \n",
    "        GVector = GetVectorF_G1(G,r)\n",
    "        \n",
    "        r -= lr*np.dot(J,GVector) \n",
    "        \n",
    "        R_vector = np.vstack((R_vector,r))\n",
    "        \n",
    "        NewF = GetMetric_G1(G,r)\n",
    "        \n",
    "        \n",
    "        Vector_F = np.append(Vector_F,NewF)\n",
    "        \n",
    "        d = np.abs( CurrentF - NewF )/NewF\n",
    "        \n",
    "        \n",
    "        if it%500 == 0:\n",
    "\n",
    "            clear_output(wait=True)\n",
    "\n",
    "            time.sleep(0.01)\n",
    "    \n",
    "        it += 1\n",
    "        \n",
    "    if d < error:\n",
    "        print(' Entrenamiento completo ', d, 'iteraciones', it)\n",
    "        \n",
    "    if it == epochs:\n",
    "        print(' Entrenamiento no completado ')\n",
    "        \n",
    "    return r,it,Vector_F,R_vector"
   ]
  },
  {
   "cell_type": "code",
   "execution_count": 70,
   "id": "a541ed37",
   "metadata": {},
   "outputs": [
    {
     "name": "stderr",
     "output_type": "stream",
     "text": [
      "C:\\Users\\Santiago\\AppData\\Local\\Temp\\ipykernel_4384\\455145035.py:6: RuntimeWarning: overflow encountered in exp\n",
      "  lambda x1,x2,x3: 60*x3+3*np.exp(-x1*x2)+10*np.pi-3)\n",
      "C:\\Users\\Santiago\\AppData\\Local\\Temp\\ipykernel_4384\\3500005507.py:26: RuntimeWarning: invalid value encountered in double_scalars\n",
      "  d = np.abs( CurrentF - NewF )/NewF\n"
     ]
    }
   ],
   "source": [
    "xsol,it,F,R = GetSolve_G1(G1,[0,0,0],lr=1e-3)"
   ]
  },
  {
   "cell_type": "code",
   "execution_count": 72,
   "id": "55bafd61",
   "metadata": {},
   "outputs": [
    {
     "data": {
      "text/plain": [
       "array([ 5.20778834e+20, -3.89681597e+20, -1.82612429e+10])"
      ]
     },
     "execution_count": 72,
     "metadata": {},
     "output_type": "execute_result"
    }
   ],
   "source": [
    "xsol"
   ]
  },
  {
   "cell_type": "code",
   "execution_count": null,
   "id": "887f9bf8",
   "metadata": {},
   "outputs": [],
   "source": []
  }
 ],
 "metadata": {
  "kernelspec": {
   "display_name": "Python 3 (ipykernel)",
   "language": "python",
   "name": "python3"
  },
  "language_info": {
   "codemirror_mode": {
    "name": "ipython",
    "version": 3
   },
   "file_extension": ".py",
   "mimetype": "text/x-python",
   "name": "python",
   "nbconvert_exporter": "python",
   "pygments_lexer": "ipython3",
   "version": "3.9.12"
  }
 },
 "nbformat": 4,
 "nbformat_minor": 5
}
