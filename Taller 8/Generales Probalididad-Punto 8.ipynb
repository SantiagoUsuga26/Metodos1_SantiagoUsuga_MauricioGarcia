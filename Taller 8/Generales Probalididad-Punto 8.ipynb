{
 "cells": [
  {
   "cell_type": "code",
   "execution_count": 1,
   "metadata": {},
   "outputs": [],
   "source": [
    "import numpy as np"
   ]
  },
  {
   "cell_type": "markdown",
   "metadata": {},
   "source": [
    "Se lanzan simultaneamente 4 monedas \"justas\", por lo tanto tenemos que la posibilidad de cada caso es $\\dfrac{1}{16}$ y el número de posibilidades lo podemos calcular como $2^4 = 16$. "
   ]
  },
  {
   "cell_type": "markdown",
   "metadata": {},
   "source": [
    "Teniendo esto en cuenta, realizamos el experimento vitual para $N=10^5$ eventos."
   ]
  },
  {
   "cell_type": "code",
   "execution_count": 6,
   "metadata": {},
   "outputs": [
    {
     "name": "stdout",
     "output_type": "stream",
     "text": [
      "La probabilidad calculada fue de 0.37135 y, el error respecto a la probablidad teorica: -0.0036499999999999866\n"
     ]
    }
   ],
   "source": [
    "n=int(1e5)\n",
    "casos=[-1,1]\n",
    "contador=0\n",
    "for i in range(n):\n",
    "    m1 = np.random.choice(casos)\n",
    "    m2 = np.random.choice(casos)\n",
    "    m3 = np.random.choice(casos)\n",
    "    m4 = np.random.choice(casos)\n",
    "    experiment = np.array([m1, m2, m3, m4])\n",
    "    if np.count_nonzero(experiment==1)==2:\n",
    "        contador += 1\n",
    "\n",
    "r=contador/n\n",
    "print(f\"La probabilidad calculada fue de {r} y, el error respecto a la probablidad teorica: {r-3/8}\")"
   ]
  }
 ],
 "metadata": {
  "kernelspec": {
   "display_name": "Python 3",
   "language": "python",
   "name": "python3"
  },
  "language_info": {
   "codemirror_mode": {
    "name": "ipython",
    "version": 3
   },
   "file_extension": ".py",
   "mimetype": "text/x-python",
   "name": "python",
   "nbconvert_exporter": "python",
   "pygments_lexer": "ipython3",
   "version": "3.7.6"
  }
 },
 "nbformat": 4,
 "nbformat_minor": 4
}
